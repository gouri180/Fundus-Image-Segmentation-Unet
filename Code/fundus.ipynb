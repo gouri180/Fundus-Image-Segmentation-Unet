{
 "cells": [
  {
   "cell_type": "code",
   "execution_count": null,
   "id": "50d95427-a0a2-469e-9c5e-cbe6cfd6b2a4",
   "metadata": {},
   "outputs": [],
   "source": [
    "import torch\n",
    "import torch.nn as nn\n",
    "import torchvision.transforms as transforms\n",
    "from torchvision import datasets\n",
    "import onnx\n",
    "from onnx_tf.backend import prepare\n",
    "import tensorflow as tf\n",
    "import numpy as np"
   ]
  },
  {
   "cell_type": "code",
   "execution_count": null,
   "id": "1594342b-93ac-48ca-b119-04a34fd7eb21",
   "metadata": {},
   "outputs": [],
   "source": [
    " # Load  ONNX model\n",
    "onnx_model = onnx.load('/content/fundus.onnx')\n",
    " \n",
    " # Convert ONNX model to TensorFlow format\n",
    "tf_model = onnx_tf.backend.prepare(onnx_model)\n",
    " # Export  TensorFlow  model \n",
    "tf_model.export_graph(\"fundus.tf\")"
   ]
  },
  {
   "cell_type": "code",
   "execution_count": null,
   "id": "dc5c6aa2-692b-40a4-b430-8f001d4e9e86",
   "metadata": {},
   "outputs": [],
   "source": [
    "# Step 8: Convert the TensorFlow model to TensorFlow Lite with optimization (quantization)\n",
    "converter = tf.lite.TFLiteConverter.from_saved_model(tf_model_dir)\n",
    "\n",
    "# Apply post-training quantization to reduce model size\n",
    "converter.optimizations = [tf.lite.Optimize.DEFAULT]  # Default quantization\n",
    "\n",
    "\n",
    "# Convert the model\n",
    "tflite_model = converter.convert()\n",
    "\n",
    "# Step 9: Save the optimized TensorFlow Lite model\n",
    "with open(\"fundus_lite.tflite\", \"wb\") as f:\n",
    "    f.write(tflite_model)\n",
    "\n",
    "print(\"Optimized TensorFlow Lite model saved successfully!\")\n"
   ]
  }
 ],
 "metadata": {
  "kernelspec": {
   "display_name": "Python 3 (ipykernel)",
   "language": "python",
   "name": "python3"
  },
  "language_info": {
   "codemirror_mode": {
    "name": "ipython",
    "version": 3
   },
   "file_extension": ".py",
   "mimetype": "text/x-python",
   "name": "python",
   "nbconvert_exporter": "python",
   "pygments_lexer": "ipython3",
   "version": "3.12.4"
  }
 },
 "nbformat": 4,
 "nbformat_minor": 5
}
